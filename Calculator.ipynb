{
  "nbformat": 4,
  "nbformat_minor": 0,
  "metadata": {
    "colab": {
      "provenance": [],
      "authorship_tag": "ABX9TyPGSU47qF2WtAKW+Ajx36KU",
      "include_colab_link": true
    },
    "kernelspec": {
      "name": "python3",
      "display_name": "Python 3"
    },
    "language_info": {
      "name": "python"
    }
  },
  "cells": [
    {
      "cell_type": "markdown",
      "metadata": {
        "id": "view-in-github",
        "colab_type": "text"
      },
      "source": [
        "<a href=\"https://colab.research.google.com/github/jaxnixx/Hello/blob/main/Calculator.ipynb\" target=\"_parent\"><img src=\"https://colab.research.google.com/assets/colab-badge.svg\" alt=\"Open In Colab\"/></a>"
      ]
    },
    {
      "cell_type": "code",
      "execution_count": null,
      "metadata": {
        "colab": {
          "base_uri": "https://localhost:8080/"
        },
        "id": "hpC978F-qmXL",
        "outputId": "d05d2af6-632a-4b63-c50b-b74171fc4794"
      },
      "outputs": [
        {
          "output_type": "stream",
          "name": "stdout",
          "text": [
            "Enter first number:4\n",
            "Enter operator (+,-,*,/):-\n",
            "Enter second number:5\n",
            "Result: -1.0\n",
            "Do you want to calculate again? (yes/no):yes\n",
            "Enter first number:3\n",
            "Enter operator (+,-,*,/):+\n",
            "Enter second number:20\n",
            "Result: 23.0\n",
            "Do you want to calculate again? (yes/no):no\n",
            "Goodbye!\n"
          ]
        }
      ],
      "source": [
        "# Mini Project 1: Basic Calculator\n",
        "\n",
        "# Get user input\n",
        "while True:\n",
        "  num1 = float(input(\"Enter first number:\"))\n",
        "  operator = input(\"Enter operator (+,-,*,/):\")\n",
        "  num2 = float(input(\"Enter second number:\"))\n",
        "\n",
        "  #Perform calculation based on operator\n",
        "  if operator == \"+\":\n",
        "    result = num1 + num2\n",
        "  elif operator == \"-\":\n",
        "    result = num1 - num2\n",
        "  elif operator == \"*\":\n",
        "    result = num1 * num2\n",
        "  elif operator == \"/\":\n",
        "    if num2 != 0:\n",
        "      result = num1 / num2\n",
        "    else:\n",
        "        result = \"Error: Cannot divide by zero.\"\n",
        "  else:\n",
        "    result = \"Invalid operator.\"\n",
        "\n",
        "  # Show result\n",
        "  print (\"Result:\", result)\n",
        "\n",
        "  #Ask if they want to continue\n",
        "  again = input(\"Do you want to calculate again? (yes/no):\")\n",
        "  if again.lower() != \"yes\":\n",
        "          print(\"Goodbye!\")\n",
        "          break"
      ]
    },
    {
      "cell_type": "code",
      "source": [
        "#Grade Calculator\n",
        "\n",
        "#Loop for recalculating\n",
        "while True:\n",
        "#Loop for first input, current grade\n",
        "  while True:\n",
        "  #get user input\n",
        "    grade = float(input(\"Enter your current grade as a percentage (example 89.3):\"))\n",
        "  #check that input is correct\n",
        "    try:\n",
        "      if grade < 1:\n",
        "        print (\"Did you mean to enter a percentage? (Example 89.3, not 0.893)\")\n",
        "        continue\n",
        "      else:\n",
        "        print(f\"You entered: {grade: .1f}%\")\n",
        "        #moves to next loop\n",
        "        break\n",
        "    except ValueError:\n",
        "      print(\"Invalid input! Please enter a number like 89.3, not a letter grade.\")\n",
        " #loop for second input, overall grade\n",
        "  while True:\n",
        "    overall = float(input(\"Enter the final course grade you want (example 90 for 90%) \"))\n",
        "    try:\n",
        "      if overall < 1:\n",
        "        print (\"Did you mean to enter a percentage? (Example 89.3, not 0.893)\")\n",
        "        continue\n",
        "      else:\n",
        "        print(f\"You entered: {overall: .1f}%\")\n",
        "        #moves to give needed final grade\n",
        "        break\n",
        "    except ValueError:\n",
        "      print(\"Invalid input! Please enter a number like 89.3, not a letter grade.\")\n",
        "\n",
        "  #perform calculations for needed final grade\n",
        "  fgrade = (overall - grade*0.85)/0.15\n",
        "  #rounds needed final grade\n",
        "  fgrade = round(fgrade,2)\n",
        "  #accounts for if % is less than 0\n",
        "  if fgrade < 0:\n",
        "    fgrade = 0\n",
        "  #accounts for if $ is larger than 100 and returns heartbreak\n",
        "  if fgrade < 100:\n",
        "    print (\"To earn a\", overall, \"% in the course, you need to earn at least a\", fgrade, \"% on the final exam.\")\n",
        "  #returns final needed grade\n",
        "  else:\n",
        "    print (\"Based on your current grade\", grade, \"%, It is not possible for you to earn a\", overall, \"% in the course. Please recalculate for a lower possible course grade.\")\n",
        "\n",
        "  #Ask if they want to continue\n",
        "  again = input(\"Do you want to calculate again? (yes/no):\")\n",
        "  if again.lower() != \"yes\":\n",
        "          print(\"Good Luck on your Final!\")\n",
        "          break"
      ],
      "metadata": {
        "colab": {
          "base_uri": "https://localhost:8080/"
        },
        "id": "a_6MiErZxjS4",
        "outputId": "1b2f9917-98de-4b46-d093-3a4ccd3fce1d"
      },
      "execution_count": null,
      "outputs": [
        {
          "output_type": "stream",
          "name": "stdout",
          "text": [
            "Enter your current grade as a percentage (example 89.3):60\n",
            "You entered:  60.0%\n",
            "Enter the final course grade you want (example 90 for 90%) 65\n",
            "You entered:  65.0%\n",
            "To earn a 65.0 % in the course, you need to earn at least a 93.33 % on the final exam.\n",
            "Do you want to calculate again? (yes/no):yes\n",
            "Enter your current grade as a percentage (example 89.3):95\n",
            "You entered:  95.0%\n",
            "Enter the final course grade you want (example 90 for 90%) 90\n",
            "You entered:  90.0%\n",
            "To earn a 90.0 % in the course, you need to earn at least a 61.67 % on the final exam.\n",
            "Do you want to calculate again? (yes/no):no\n",
            "Good Luck on your Final!\n"
          ]
        }
      ]
    }
  ]
}