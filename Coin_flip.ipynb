{
  "nbformat": 4,
  "nbformat_minor": 0,
  "metadata": {
    "colab": {
      "provenance": [],
      "authorship_tag": "ABX9TyNdPmZBZTEoH7K3FSrtjYAh",
      "include_colab_link": true
    },
    "kernelspec": {
      "name": "python3",
      "display_name": "Python 3"
    },
    "language_info": {
      "name": "python"
    }
  },
  "cells": [
    {
      "cell_type": "markdown",
      "metadata": {
        "id": "view-in-github",
        "colab_type": "text"
      },
      "source": [
        "<a href=\"https://colab.research.google.com/github/jaxnixx/Hello/blob/main/Coin_flip.ipynb\" target=\"_parent\"><img src=\"https://colab.research.google.com/assets/colab-badge.svg\" alt=\"Open In Colab\"/></a>"
      ]
    },
    {
      "cell_type": "code",
      "execution_count": null,
      "metadata": {
        "colab": {
          "base_uri": "https://localhost:8080/"
        },
        "id": "Nx8tByhBkb_a",
        "outputId": "0ff340bd-3edb-4a3c-aebb-895183e4a81a"
      },
      "outputs": [
        {
          "output_type": "stream",
          "name": "stdout",
          "text": [
            "You flipped: Heads\n",
            "Do you want to flip again? (yes/no):yes\n",
            "You flipped: Heads\n",
            "Do you want to flip again? (yes/no):yes\n",
            "You flipped: Tails\n",
            "Do you want to flip again? (yes/no):no\n",
            "Thanks for playing!\n"
          ]
        }
      ],
      "source": [
        "# Mini Project 2: Coin Flip Simulator\n",
        "\n",
        "import random\n",
        "\n",
        "#Coin Flip Simulator\n",
        "\n",
        "while True:\n",
        "  #Flip the coin\n",
        "  flip = random.choice([\"Heads\",\"Tails\"])\n",
        "  print(\"You flipped:\", flip)\n",
        "\n",
        "  #Ask if the user wants to flip again\n",
        "  again = input(\"Do you want to flip again? (yes/no):\")\n",
        "  if again.lower() != \"yes\":\n",
        "    print(\"Thanks for playing!\")\n",
        "    break"
      ]
    },
    {
      "cell_type": "code",
      "source": [
        "# My version: What's for dinner?\n",
        "\n",
        "import random\n",
        "\n",
        "#What's for dinner?\n",
        "\n",
        "food = [\"Italian\",\"Chinese\",\"American\",\"Mexican\"]\n",
        "user_quit = False\n",
        "\n",
        "while food: #as long as there are options left\n",
        "\n",
        "  pick = random.choice(food)\n",
        "  print(\"Tonight you're eating:\",pick)\n",
        "  #remove cuisine so it won't be suggested again\n",
        "  food.remove(pick) #remove item so its not suggested again\n",
        "  #ask if user wants to try again\n",
        "  again = input(\"Does that sound tasty? (yes/no)\")\n",
        "  if again.lower() !=\"no\":\n",
        "    user_quit = True\n",
        "    break\n",
        "if user_quit:\n",
        "   print(\"Enjoy your\",pick,\"meal!\")\n",
        "else:\n",
        "  print(\"No more options are left for you to choose. Are you sure you're hungry?\")\n"
      ],
      "metadata": {
        "colab": {
          "base_uri": "https://localhost:8080/"
        },
        "id": "ArhweyGDlF-l",
        "outputId": "e3ad1a34-c626-4775-e23f-7dc320cd01dd"
      },
      "execution_count": null,
      "outputs": [
        {
          "output_type": "stream",
          "name": "stdout",
          "text": [
            "Tonight you're eating: Mexican\n",
            "Does that sound tasty? (yes/no)no\n",
            "Tonight you're eating: Italian\n",
            "Does that sound tasty? (yes/no)no\n",
            "Tonight you're eating: American\n",
            "Does that sound tasty? (yes/no)no\n",
            "Tonight you're eating: Chinese\n",
            "Does that sound tasty? (yes/no)no\n",
            "No more options are left for you to choose. Are you sure you're hungry?\n"
          ]
        }
      ]
    }
  ]
}